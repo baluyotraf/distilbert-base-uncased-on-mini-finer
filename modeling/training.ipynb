{
 "cells": [
  {
   "cell_type": "code",
   "execution_count": null,
   "metadata": {},
   "outputs": [],
   "source": [
    "from collections import Counter\n",
    "import shutil\n",
    "import functools\n",
    "\n",
    "import numpy as np\n",
    "import torch\n",
    "import pandas as pd\n",
    "import huggingface_hub\n",
    "from onnxruntime import InferenceSession\n",
    "from datasets import load_dataset, Dataset\n",
    "from optimum.onnxruntime import ORTModelForTokenClassification\n",
    "import transformers\n",
    "from transformers import AutoTokenizer, AutoModelForTokenClassification, TrainingArguments, Trainer, DataCollatorForTokenClassification\n",
    "from evaluate import load as load_metric\n",
    "import sklearn.metrics"
   ]
  },
  {
   "cell_type": "code",
   "execution_count": null,
   "metadata": {},
   "outputs": [],
   "source": [
    "huggingface_hub.notebook_login()"
   ]
  },
  {
   "cell_type": "code",
   "execution_count": null,
   "metadata": {},
   "outputs": [],
   "source": [
    "BASE_MODEL_CHECKPOINT = \"distilbert-base-uncased\"\n",
    "DATA_CACHE = \".cache\"\n",
    "\n",
    "OUTPUT_MODEL_NAME = f\"{BASE_MODEL_CHECKPOINT}-on-mini-finer\"\n",
    "\n",
    "TRAINED_MODEL_CHECKPOINT = f\"checkpoints/{OUTPUT_MODEL_NAME}\"\n",
    "BATCH_SIZE = 16\n",
    "USE_CPU = False\n",
    "N_EPOCHS = 20\n",
    "\n",
    "HUGGING_FACE_REPOSITORY = f\"baluyotraf/{OUTPUT_MODEL_NAME}\"\n",
    "ONNX_OUTPUT_PATH = f\"onnx/{OUTPUT_MODEL_NAME}\""
   ]
  },
  {
   "cell_type": "code",
   "execution_count": null,
   "metadata": {},
   "outputs": [],
   "source": [
    "PYTORCH_IGNORE = -100"
   ]
  },
  {
   "cell_type": "code",
   "execution_count": null,
   "metadata": {},
   "outputs": [],
   "source": [
    "data = load_dataset(\"nlpaueb/finer-139\", cache_dir=DATA_CACHE)\n",
    "labels = data[\"train\"].features[\"ner_tags\"].feature.names"
   ]
  },
  {
   "cell_type": "code",
   "execution_count": null,
   "metadata": {},
   "outputs": [],
   "source": [
    "data_df = data[\"train\"].to_pandas()"
   ]
  },
  {
   "cell_type": "code",
   "execution_count": null,
   "metadata": {},
   "outputs": [],
   "source": [
    "ner_counts_per_row = data_df[\"ner_tags\"].map(lambda r: list(Counter(r).keys()))\n",
    "ner_counts = Counter(ner_counts_per_row.explode())\n",
    "ner_count_names_df = pd.DataFrame([\n",
    "    {\"idx\": idx, \"count\": count, \"label\": labels[idx]}\n",
    "    for idx, count in ner_counts.items() \n",
    "    if labels[idx].startswith(\"B\")\n",
    "]).sort_values(\"count\", ascending=True)"
   ]
  },
  {
   "cell_type": "code",
   "execution_count": null,
   "metadata": {},
   "outputs": [],
   "source": [
    "ner_count_names_df.head()"
   ]
  },
  {
   "cell_type": "code",
   "execution_count": null,
   "metadata": {},
   "outputs": [],
   "source": [
    "target_ner_df = ner_count_names_df.head(4)\n",
    "target_label_idxs = set(target_ner_df[\"idx\"])\n",
    "target_label_names = set(target_ner_df[\"label\"].str[2:])\n",
    "\n",
    "target_ner_tag_map = {\n",
    "    old: new\n",
    "    for new, old in enumerate(\n",
    "        (idx for idx, label in enumerate(labels) if label[2:] in target_label_names), 1\n",
    "    )\n",
    "}\n",
    "target_labels = [labels[idx] for idx in target_ner_tag_map.keys()]\n",
    "\n",
    "target_id_to_label = dict(enumerate([labels[0], *target_labels]))\n",
    "target_label_to_id = {label: id_ for id_, label in target_id_to_label.items()}"
   ]
  },
  {
   "cell_type": "code",
   "execution_count": null,
   "metadata": {},
   "outputs": [],
   "source": [
    "def remap_ner_tags(row):\n",
    "    new_tags = [\n",
    "        target_ner_tag_map.get(tag, 0)\n",
    "        for tag in row[\"ner_tags\"]\n",
    "    ]\n",
    "    return {\"target_ner_tags\": new_tags}\n",
    "\n",
    "target_data = data.filter(lambda x: set(x[\"ner_tags\"]) & target_label_idxs)\n",
    "target_data = target_data.map(remap_ner_tags)"
   ]
  },
  {
   "cell_type": "code",
   "execution_count": null,
   "metadata": {},
   "outputs": [],
   "source": [
    "tokenizer = AutoTokenizer.from_pretrained(BASE_MODEL_CHECKPOINT)\n",
    "def tokenize_and_align_labels(examples, tokenizer, label_all_tokens=True):\n",
    "    tokenized_inputs = tokenizer(examples[\"tokens\"], truncation=True, is_split_into_words=True)\n",
    "\n",
    "    labels = []\n",
    "    for i, label in enumerate(examples[f\"target_ner_tags\"]):\n",
    "        word_ids = tokenized_inputs.word_ids(batch_index=i)\n",
    "        previous_word_idx = None\n",
    "        label_ids = []\n",
    "        for word_idx in word_ids:\n",
    "            # Special tokens have a word id that is None. We set the label to -100 so they are automatically\n",
    "            # ignored in the loss function.\n",
    "            if word_idx is None:\n",
    "                label_ids.append(PYTORCH_IGNORE)\n",
    "            # We set the label for the first token of each word.\n",
    "            elif word_idx != previous_word_idx:\n",
    "                label_ids.append(label[word_idx])\n",
    "            # For the other tokens in a word, we set the label to either the current label or -100, depending on\n",
    "            # the label_all_tokens flag.\n",
    "            else:\n",
    "                label_ids.append(label[word_idx] if label_all_tokens else PYTORCH_IGNORE)\n",
    "            previous_word_idx = word_idx\n",
    "\n",
    "        labels.append(label_ids)\n",
    "\n",
    "    tokenized_inputs[\"labels\"] = labels\n",
    "    return tokenized_inputs"
   ]
  },
  {
   "cell_type": "code",
   "execution_count": null,
   "metadata": {},
   "outputs": [],
   "source": [
    "tokenized_target_data = target_data.map(lambda rows: tokenize_and_align_labels(rows, tokenizer), batched=True)\n",
    "tokenized_target_data"
   ]
  },
  {
   "cell_type": "code",
   "execution_count": null,
   "metadata": {},
   "outputs": [],
   "source": [
    "model = AutoModelForTokenClassification.from_pretrained(BASE_MODEL_CHECKPOINT, num_labels=len(target_id_to_label), id2label=target_id_to_label, label2id=target_label_to_id)"
   ]
  },
  {
   "cell_type": "code",
   "execution_count": null,
   "metadata": {},
   "outputs": [],
   "source": [
    "training_args = TrainingArguments(\n",
    "    TRAINED_MODEL_CHECKPOINT,\n",
    "    evaluation_strategy=\"epoch\",\n",
    "    save_strategy=\"epoch\",\n",
    "    logging_strategy=\"epoch\",\n",
    "    load_best_model_at_end=True,\n",
    "    learning_rate=2e-5,\n",
    "    per_device_train_batch_size=BATCH_SIZE,\n",
    "    per_device_eval_batch_size=BATCH_SIZE,\n",
    "    num_train_epochs=N_EPOCHS,\n",
    "    weight_decay=0.01,\n",
    "    use_cpu=USE_CPU\n",
    ")"
   ]
  },
  {
   "cell_type": "code",
   "execution_count": null,
   "metadata": {},
   "outputs": [],
   "source": [
    "metric = load_metric(\"seqeval\")\n",
    "def compute_metrics(predictions, labels, id2label):\n",
    "    predictions = np.argmax(predictions, axis=2)\n",
    "\n",
    "    # Remove ignored index (special tokens)\n",
    "    true_predictions = [\n",
    "        [id2label[p] for (p, l) in zip(prediction, label) if l != PYTORCH_IGNORE]\n",
    "        for prediction, label in zip(predictions, labels)\n",
    "    ]\n",
    "    true_labels = [\n",
    "        [id2label[l] for (p, l) in zip(prediction, label) if l != PYTORCH_IGNORE]\n",
    "        for prediction, label in zip(predictions, labels)\n",
    "    ]\n",
    "\n",
    "    return metric.compute(predictions=true_predictions, references=true_labels)\n",
    "\n",
    "def compute_training_metrics(p, id2label):\n",
    "    results = compute_metrics(*p, id2label)\n",
    "    return {\n",
    "        \"precision\": results[\"overall_precision\"],\n",
    "        \"recall\": results[\"overall_recall\"],\n",
    "        \"f1\": results[\"overall_f1\"],\n",
    "        \"accuracy\": results[\"overall_accuracy\"],\n",
    "    }\n",
    "\n",
    "def plot_confusion_matrix(predictions, labels, names=None, normalize=None):\n",
    "    flat_predictions = np.asarray(predictions).argmax(-1).reshape(-1)\n",
    "    flat_labels = np.asarray(labels).reshape(-1)\n",
    "\n",
    "    valid_labels = flat_labels != PYTORCH_IGNORE\n",
    "\n",
    "    confusion_matrix = sklearn.metrics.confusion_matrix(flat_labels[valid_labels], flat_predictions[valid_labels], normalize=normalize)\n",
    "    display = sklearn.metrics.ConfusionMatrixDisplay(confusion_matrix, display_labels=names)\n",
    "    display.plot()"
   ]
  },
  {
   "cell_type": "code",
   "execution_count": null,
   "metadata": {},
   "outputs": [],
   "source": [
    "shutil.rmtree(TRAINED_MODEL_CHECKPOINT, ignore_errors=True)\n",
    "data_collator = DataCollatorForTokenClassification(tokenizer)\n",
    "trainer = Trainer(\n",
    "    model,\n",
    "    training_args,\n",
    "    train_dataset=tokenized_target_data[\"train\"],\n",
    "    eval_dataset=tokenized_target_data[\"validation\"],\n",
    "    data_collator=data_collator,\n",
    "    tokenizer=tokenizer,\n",
    "    compute_metrics=functools.partial(compute_training_metrics, id2label=target_id_to_label)\n",
    ")"
   ]
  },
  {
   "cell_type": "code",
   "execution_count": null,
   "metadata": {},
   "outputs": [],
   "source": [
    "test_output = trainer.predict(tokenized_target_data[\"test\"])\n",
    "compute_metrics(test_output.predictions, test_output.label_ids, target_id_to_label)"
   ]
  },
  {
   "cell_type": "code",
   "execution_count": null,
   "metadata": {},
   "outputs": [],
   "source": [
    "training_result = trainer.train()"
   ]
  },
  {
   "cell_type": "code",
   "execution_count": null,
   "metadata": {},
   "outputs": [],
   "source": [
    "test_output = trainer.predict(tokenized_target_data[\"test\"])\n",
    "compute_metrics(test_output.predictions, test_output.label_ids, target_id_to_label)"
   ]
  },
  {
   "cell_type": "code",
   "execution_count": null,
   "metadata": {},
   "outputs": [],
   "source": [
    "model.push_to_hub(HUGGING_FACE_REPOSITORY)\n",
    "tokenizer.push_to_hub(HUGGING_FACE_REPOSITORY)"
   ]
  },
  {
   "cell_type": "code",
   "execution_count": null,
   "metadata": {},
   "outputs": [],
   "source": [
    "ort_model = ORTModelForTokenClassification.from_pretrained(HUGGING_FACE_REPOSITORY, export=True)\n",
    "\n",
    "shutil.rmtree(ONNX_OUTPUT_PATH, ignore_errors=True)\n",
    "ort_model.save_pretrained(ONNX_OUTPUT_PATH)\n",
    "tokenizer.save_pretrained(ONNX_OUTPUT_PATH)"
   ]
  },
  {
   "cell_type": "code",
   "execution_count": null,
   "metadata": {},
   "outputs": [],
   "source": [
    "def predict_from_model(model, tokenizer, tokenized_data):\n",
    "    predictions = model(\n",
    "        input_ids=torch.tensor(tokenized_data[\"input_ids\"], device=model.device),\n",
    "        attention_mask=torch.tensor(tokenized_data[\"attention_mask\"], device=model.device)\n",
    "    )\n",
    "    return predictions.logits.detach().numpy()"
   ]
  },
  {
   "cell_type": "code",
   "execution_count": null,
   "metadata": {},
   "outputs": [],
   "source": [
    "tokenized_padded_test_data = target_data[\"test\"].map(lambda rows: tokenize_and_align_labels(rows, functools.partial(tokenizer, padding=\"longest\")), batched=True)"
   ]
  },
  {
   "cell_type": "code",
   "execution_count": null,
   "metadata": {},
   "outputs": [],
   "source": [
    "ort_pred = predict_from_model(ort_model, tokenizer, tokenized_padded_test_data)"
   ]
  },
  {
   "cell_type": "code",
   "execution_count": null,
   "metadata": {},
   "outputs": [],
   "source": [
    "compute_metrics(ort_pred, tokenized_padded_test_data[\"labels\"], target_id_to_label)"
   ]
  },
  {
   "cell_type": "code",
   "execution_count": null,
   "metadata": {},
   "outputs": [],
   "source": [
    "plot_confusion_matrix(ort_pred, tokenized_padded_test_data[\"labels\"])"
   ]
  },
  {
   "cell_type": "code",
   "execution_count": null,
   "metadata": {},
   "outputs": [],
   "source": [
    "cpu_model = model.to(\"cpu\")"
   ]
  },
  {
   "cell_type": "code",
   "execution_count": null,
   "metadata": {},
   "outputs": [],
   "source": [
    "with torch.no_grad():\n",
    "    cpu_pred = predict_from_model(cpu_model, tokenizer, tokenized_padded_test_data)"
   ]
  },
  {
   "cell_type": "code",
   "execution_count": null,
   "metadata": {},
   "outputs": [],
   "source": [
    "ort_session = InferenceSession(f\"{ONNX_OUTPUT_PATH}/model.onnx\")"
   ]
  },
  {
   "cell_type": "code",
   "execution_count": null,
   "metadata": {},
   "outputs": [],
   "source": [
    "ort_output = ort_session.run(output_names=[\"logits\"], input_feed={key: tokenized_padded_test_data[key] for key in [\"input_ids\", \"attention_mask\"]})"
   ]
  },
  {
   "cell_type": "code",
   "execution_count": null,
   "metadata": {},
   "outputs": [],
   "source": [
    "compute_metrics(ort_output[0], tokenized_padded_test_data[\"labels\"], target_id_to_label)"
   ]
  },
  {
   "cell_type": "code",
   "execution_count": null,
   "metadata": {},
   "outputs": [],
   "source": [
    "plot_confusion_matrix(ort_output[0], tokenized_padded_test_data[\"labels\"])"
   ]
  }
 ],
 "metadata": {
  "kernelspec": {
   "display_name": "Python 3 (ipykernel)",
   "language": "python",
   "name": "python3"
  },
  "language_info": {
   "codemirror_mode": {
    "name": "ipython",
    "version": 3
   },
   "file_extension": ".py",
   "mimetype": "text/x-python",
   "name": "python",
   "nbconvert_exporter": "python",
   "pygments_lexer": "ipython3",
   "version": "3.10.13"
  }
 },
 "nbformat": 4,
 "nbformat_minor": 2
}
